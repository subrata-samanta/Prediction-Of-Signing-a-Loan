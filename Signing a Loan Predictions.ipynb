{
 "cells": [
  {
   "cell_type": "code",
   "execution_count": 6,
   "metadata": {
    "colab": {
     "base_uri": "https://localhost:8080/",
     "height": 72
    },
    "colab_type": "code",
    "executionInfo": {
     "elapsed": 1503,
     "status": "ok",
     "timestamp": 1586416025143,
     "user": {
      "displayName": "Subrata Samanta",
      "photoUrl": "",
      "userId": "11072672971831267133"
     },
     "user_tz": -330
    },
    "id": "M1Og23AMQOdl",
    "outputId": "12f8109c-0396-4420-c0fa-ec4e879d19ea"
   },
   "outputs": [],
   "source": [
    "import numpy as np\n",
    "import pandas as pd\n",
    "import matplotlib.pyplot as plt\n",
    "import seaborn as sns\n",
    "from dateutil import parser\n",
    "%matplotlib inline\n",
    "\n",
    "\n",
    "from sklearn.model_selection import train_test_split\n",
    "\n",
    "from sklearn.preprocessing import StandardScaler\n",
    "from sklearn.svm import SVC\n",
    "from xgboost import XGBClassifier\n",
    "from sklearn.ensemble import RandomForestClassifier\n",
    "\n",
    "from sklearn.linear_model import LogisticRegression\n",
    "from sklearn.metrics import confusion_matrix,classification_report,accuracy_score\n",
    "from sklearn.model_selection import GridSearchCV\n",
    "import pickle\n"
   ]
  },
  {
   "cell_type": "code",
   "execution_count": 7,
   "metadata": {},
   "outputs": [
    {
     "name": "stdout",
     "output_type": "stream",
     "text": [
      "Requirement already satisfied: xgboost in /usr/local/lib/python3.6/dist-packages (1.0.2)\n",
      "Requirement already satisfied: numpy in /usr/local/lib/python3.6/dist-packages (from xgboost) (1.18.2)\n",
      "Requirement already satisfied: scipy in /usr/local/lib/python3.6/dist-packages (from xgboost) (1.4.1)\n"
     ]
    }
   ],
   "source": [
    "!pip install xgboost"
   ]
  },
  {
   "cell_type": "code",
   "execution_count": 9,
   "metadata": {
    "colab": {
     "base_uri": "https://localhost:8080/",
     "height": 34
    },
    "colab_type": "code",
    "executionInfo": {
     "elapsed": 2128,
     "status": "ok",
     "timestamp": 1586416025821,
     "user": {
      "displayName": "Subrata Samanta",
      "photoUrl": "",
      "userId": "11072672971831267133"
     },
     "user_tz": -330
    },
    "id": "pGDqtYWbQOeC",
    "outputId": "688bdd6d-6af0-404e-97ef-2331513e3946"
   },
   "outputs": [
    {
     "data": {
      "text/plain": [
       "(17908, 21)"
      ]
     },
     "execution_count": 9,
     "metadata": {},
     "output_type": "execute_result"
    }
   ],
   "source": [
    "data= pd.read_csv('data.csv')\n",
    "data.shape"
   ]
  },
  {
   "cell_type": "code",
   "execution_count": 10,
   "metadata": {
    "colab": {},
    "colab_type": "code",
    "id": "52UkPc__QOeS"
   },
   "outputs": [],
   "source": [
    "pd.set_option('display.max_rows', 500)\n",
    "pd.set_option('display.max_columns', 500)\n",
    "pd.set_option('display.width', 1000)"
   ]
  },
  {
   "cell_type": "code",
   "execution_count": 11,
   "metadata": {
    "colab": {
     "base_uri": "https://localhost:8080/",
     "height": 217
    },
    "colab_type": "code",
    "executionInfo": {
     "elapsed": 1213,
     "status": "ok",
     "timestamp": 1586416025825,
     "user": {
      "displayName": "Subrata Samanta",
      "photoUrl": "",
      "userId": "11072672971831267133"
     },
     "user_tz": -330
    },
    "id": "0J5GSYQuQOeg",
    "outputId": "307b2c10-663a-4f4b-ed88-831fc14cb8a1"
   },
   "outputs": [
    {
     "data": {
      "text/html": [
       "<div>\n",
       "<style scoped>\n",
       "    .dataframe tbody tr th:only-of-type {\n",
       "        vertical-align: middle;\n",
       "    }\n",
       "\n",
       "    .dataframe tbody tr th {\n",
       "        vertical-align: top;\n",
       "    }\n",
       "\n",
       "    .dataframe thead th {\n",
       "        text-align: right;\n",
       "    }\n",
       "</style>\n",
       "<table border=\"1\" class=\"dataframe\">\n",
       "  <thead>\n",
       "    <tr style=\"text-align: right;\">\n",
       "      <th></th>\n",
       "      <th>entry_id</th>\n",
       "      <th>age</th>\n",
       "      <th>pay_schedule</th>\n",
       "      <th>home_owner</th>\n",
       "      <th>income</th>\n",
       "      <th>months_employed</th>\n",
       "      <th>years_employed</th>\n",
       "      <th>current_address_year</th>\n",
       "      <th>personal_account_m</th>\n",
       "      <th>personal_account_y</th>\n",
       "      <th>has_debt</th>\n",
       "      <th>amount_requested</th>\n",
       "      <th>risk_score</th>\n",
       "      <th>risk_score_2</th>\n",
       "      <th>risk_score_3</th>\n",
       "      <th>risk_score_4</th>\n",
       "      <th>risk_score_5</th>\n",
       "      <th>ext_quality_score</th>\n",
       "      <th>ext_quality_score_2</th>\n",
       "      <th>inquiries_last_month</th>\n",
       "      <th>e_signed</th>\n",
       "    </tr>\n",
       "  </thead>\n",
       "  <tbody>\n",
       "    <tr>\n",
       "      <th>0</th>\n",
       "      <td>7629673</td>\n",
       "      <td>40</td>\n",
       "      <td>bi-weekly</td>\n",
       "      <td>1</td>\n",
       "      <td>3135</td>\n",
       "      <td>0</td>\n",
       "      <td>3</td>\n",
       "      <td>3</td>\n",
       "      <td>6</td>\n",
       "      <td>2</td>\n",
       "      <td>1</td>\n",
       "      <td>550</td>\n",
       "      <td>36200</td>\n",
       "      <td>0.737398</td>\n",
       "      <td>0.903517</td>\n",
       "      <td>0.487712</td>\n",
       "      <td>0.515977</td>\n",
       "      <td>0.580918</td>\n",
       "      <td>0.380918</td>\n",
       "      <td>10</td>\n",
       "      <td>1</td>\n",
       "    </tr>\n",
       "    <tr>\n",
       "      <th>1</th>\n",
       "      <td>3560428</td>\n",
       "      <td>61</td>\n",
       "      <td>weekly</td>\n",
       "      <td>0</td>\n",
       "      <td>3180</td>\n",
       "      <td>0</td>\n",
       "      <td>6</td>\n",
       "      <td>3</td>\n",
       "      <td>2</td>\n",
       "      <td>7</td>\n",
       "      <td>1</td>\n",
       "      <td>600</td>\n",
       "      <td>30150</td>\n",
       "      <td>0.738510</td>\n",
       "      <td>0.881027</td>\n",
       "      <td>0.713423</td>\n",
       "      <td>0.826402</td>\n",
       "      <td>0.730720</td>\n",
       "      <td>0.630720</td>\n",
       "      <td>9</td>\n",
       "      <td>0</td>\n",
       "    </tr>\n",
       "    <tr>\n",
       "      <th>2</th>\n",
       "      <td>6934997</td>\n",
       "      <td>23</td>\n",
       "      <td>weekly</td>\n",
       "      <td>0</td>\n",
       "      <td>1540</td>\n",
       "      <td>6</td>\n",
       "      <td>0</td>\n",
       "      <td>0</td>\n",
       "      <td>7</td>\n",
       "      <td>1</td>\n",
       "      <td>1</td>\n",
       "      <td>450</td>\n",
       "      <td>34550</td>\n",
       "      <td>0.642993</td>\n",
       "      <td>0.766554</td>\n",
       "      <td>0.595018</td>\n",
       "      <td>0.762284</td>\n",
       "      <td>0.531712</td>\n",
       "      <td>0.531712</td>\n",
       "      <td>7</td>\n",
       "      <td>0</td>\n",
       "    </tr>\n",
       "    <tr>\n",
       "      <th>3</th>\n",
       "      <td>5682812</td>\n",
       "      <td>40</td>\n",
       "      <td>bi-weekly</td>\n",
       "      <td>0</td>\n",
       "      <td>5230</td>\n",
       "      <td>0</td>\n",
       "      <td>6</td>\n",
       "      <td>1</td>\n",
       "      <td>2</td>\n",
       "      <td>7</td>\n",
       "      <td>1</td>\n",
       "      <td>700</td>\n",
       "      <td>42150</td>\n",
       "      <td>0.665224</td>\n",
       "      <td>0.960832</td>\n",
       "      <td>0.767828</td>\n",
       "      <td>0.778831</td>\n",
       "      <td>0.792552</td>\n",
       "      <td>0.592552</td>\n",
       "      <td>8</td>\n",
       "      <td>1</td>\n",
       "    </tr>\n",
       "    <tr>\n",
       "      <th>4</th>\n",
       "      <td>5335819</td>\n",
       "      <td>33</td>\n",
       "      <td>semi-monthly</td>\n",
       "      <td>0</td>\n",
       "      <td>3590</td>\n",
       "      <td>0</td>\n",
       "      <td>5</td>\n",
       "      <td>2</td>\n",
       "      <td>2</td>\n",
       "      <td>8</td>\n",
       "      <td>1</td>\n",
       "      <td>1100</td>\n",
       "      <td>53850</td>\n",
       "      <td>0.617361</td>\n",
       "      <td>0.857560</td>\n",
       "      <td>0.613487</td>\n",
       "      <td>0.665523</td>\n",
       "      <td>0.744634</td>\n",
       "      <td>0.744634</td>\n",
       "      <td>12</td>\n",
       "      <td>0</td>\n",
       "    </tr>\n",
       "  </tbody>\n",
       "</table>\n",
       "</div>"
      ],
      "text/plain": [
       "   entry_id  age  pay_schedule  home_owner  income  months_employed  years_employed  current_address_year  personal_account_m  personal_account_y  has_debt  amount_requested  risk_score  risk_score_2  risk_score_3  risk_score_4  risk_score_5  ext_quality_score  ext_quality_score_2  inquiries_last_month  e_signed\n",
       "0   7629673   40     bi-weekly           1    3135                0               3                     3                   6                   2         1               550       36200      0.737398      0.903517      0.487712      0.515977           0.580918             0.380918                    10         1\n",
       "1   3560428   61        weekly           0    3180                0               6                     3                   2                   7         1               600       30150      0.738510      0.881027      0.713423      0.826402           0.730720             0.630720                     9         0\n",
       "2   6934997   23        weekly           0    1540                6               0                     0                   7                   1         1               450       34550      0.642993      0.766554      0.595018      0.762284           0.531712             0.531712                     7         0\n",
       "3   5682812   40     bi-weekly           0    5230                0               6                     1                   2                   7         1               700       42150      0.665224      0.960832      0.767828      0.778831           0.792552             0.592552                     8         1\n",
       "4   5335819   33  semi-monthly           0    3590                0               5                     2                   2                   8         1              1100       53850      0.617361      0.857560      0.613487      0.665523           0.744634             0.744634                    12         0"
      ]
     },
     "execution_count": 11,
     "metadata": {},
     "output_type": "execute_result"
    }
   ],
   "source": [
    "data.head()"
   ]
  },
  {
   "cell_type": "markdown",
   "metadata": {
    "colab_type": "text",
    "id": "uv7jPXS2QOes"
   },
   "source": [
    "# Feature engineering"
   ]
  },
  {
   "cell_type": "code",
   "execution_count": 12,
   "metadata": {
    "colab": {
     "base_uri": "https://localhost:8080/",
     "height": 407
    },
    "colab_type": "code",
    "executionInfo": {
     "elapsed": 1266,
     "status": "ok",
     "timestamp": 1586416026361,
     "user": {
      "displayName": "Subrata Samanta",
      "photoUrl": "",
      "userId": "11072672971831267133"
     },
     "user_tz": -330
    },
    "id": "z0EAvOxXQOev",
    "outputId": "ca6e2ec2-54db-4912-a88a-8c44f23f5623"
   },
   "outputs": [
    {
     "data": {
      "text/plain": [
       "entry_id                0\n",
       "age                     0\n",
       "pay_schedule            0\n",
       "home_owner              0\n",
       "income                  0\n",
       "months_employed         0\n",
       "years_employed          0\n",
       "current_address_year    0\n",
       "personal_account_m      0\n",
       "personal_account_y      0\n",
       "has_debt                0\n",
       "amount_requested        0\n",
       "risk_score              0\n",
       "risk_score_2            0\n",
       "risk_score_3            0\n",
       "risk_score_4            0\n",
       "risk_score_5            0\n",
       "ext_quality_score       0\n",
       "ext_quality_score_2     0\n",
       "inquiries_last_month    0\n",
       "e_signed                0\n",
       "dtype: int64"
      ]
     },
     "execution_count": 12,
     "metadata": {},
     "output_type": "execute_result"
    }
   ],
   "source": [
    "data.isnull().sum()"
   ]
  },
  {
   "cell_type": "code",
   "execution_count": 13,
   "metadata": {
    "colab": {},
    "colab_type": "code",
    "id": "Bf3Q1JsWQOe6"
   },
   "outputs": [],
   "source": [
    "uid  = data['entry_id']\n",
    "data['employed_months'] = data['months_employed'] + data['years_employed']*12"
   ]
  },
  {
   "cell_type": "code",
   "execution_count": 14,
   "metadata": {
    "colab": {},
    "colab_type": "code",
    "id": "1V77_ay9QOfG"
   },
   "outputs": [],
   "source": [
    "X = data.drop(columns=['entry_id','e_signed','months_employed','years_employed'])\n",
    "Y = data['e_signed']"
   ]
  },
  {
   "cell_type": "code",
   "execution_count": 15,
   "metadata": {
    "colab": {
     "base_uri": "https://localhost:8080/",
     "height": 217
    },
    "colab_type": "code",
    "executionInfo": {
     "elapsed": 1217,
     "status": "ok",
     "timestamp": 1586416028031,
     "user": {
      "displayName": "Subrata Samanta",
      "photoUrl": "",
      "userId": "11072672971831267133"
     },
     "user_tz": -330
    },
    "id": "xUwiLH2CQOfU",
    "outputId": "9c5bb87d-f57f-416b-e6f4-a85faea608e3"
   },
   "outputs": [
    {
     "data": {
      "text/html": [
       "<div>\n",
       "<style scoped>\n",
       "    .dataframe tbody tr th:only-of-type {\n",
       "        vertical-align: middle;\n",
       "    }\n",
       "\n",
       "    .dataframe tbody tr th {\n",
       "        vertical-align: top;\n",
       "    }\n",
       "\n",
       "    .dataframe thead th {\n",
       "        text-align: right;\n",
       "    }\n",
       "</style>\n",
       "<table border=\"1\" class=\"dataframe\">\n",
       "  <thead>\n",
       "    <tr style=\"text-align: right;\">\n",
       "      <th></th>\n",
       "      <th>age</th>\n",
       "      <th>pay_schedule</th>\n",
       "      <th>home_owner</th>\n",
       "      <th>income</th>\n",
       "      <th>current_address_year</th>\n",
       "      <th>personal_account_m</th>\n",
       "      <th>personal_account_y</th>\n",
       "      <th>has_debt</th>\n",
       "      <th>amount_requested</th>\n",
       "      <th>risk_score</th>\n",
       "      <th>risk_score_2</th>\n",
       "      <th>risk_score_3</th>\n",
       "      <th>risk_score_4</th>\n",
       "      <th>risk_score_5</th>\n",
       "      <th>ext_quality_score</th>\n",
       "      <th>ext_quality_score_2</th>\n",
       "      <th>inquiries_last_month</th>\n",
       "      <th>employed_months</th>\n",
       "    </tr>\n",
       "  </thead>\n",
       "  <tbody>\n",
       "    <tr>\n",
       "      <th>0</th>\n",
       "      <td>40</td>\n",
       "      <td>bi-weekly</td>\n",
       "      <td>1</td>\n",
       "      <td>3135</td>\n",
       "      <td>3</td>\n",
       "      <td>6</td>\n",
       "      <td>2</td>\n",
       "      <td>1</td>\n",
       "      <td>550</td>\n",
       "      <td>36200</td>\n",
       "      <td>0.737398</td>\n",
       "      <td>0.903517</td>\n",
       "      <td>0.487712</td>\n",
       "      <td>0.515977</td>\n",
       "      <td>0.580918</td>\n",
       "      <td>0.380918</td>\n",
       "      <td>10</td>\n",
       "      <td>36</td>\n",
       "    </tr>\n",
       "    <tr>\n",
       "      <th>1</th>\n",
       "      <td>61</td>\n",
       "      <td>weekly</td>\n",
       "      <td>0</td>\n",
       "      <td>3180</td>\n",
       "      <td>3</td>\n",
       "      <td>2</td>\n",
       "      <td>7</td>\n",
       "      <td>1</td>\n",
       "      <td>600</td>\n",
       "      <td>30150</td>\n",
       "      <td>0.738510</td>\n",
       "      <td>0.881027</td>\n",
       "      <td>0.713423</td>\n",
       "      <td>0.826402</td>\n",
       "      <td>0.730720</td>\n",
       "      <td>0.630720</td>\n",
       "      <td>9</td>\n",
       "      <td>72</td>\n",
       "    </tr>\n",
       "    <tr>\n",
       "      <th>2</th>\n",
       "      <td>23</td>\n",
       "      <td>weekly</td>\n",
       "      <td>0</td>\n",
       "      <td>1540</td>\n",
       "      <td>0</td>\n",
       "      <td>7</td>\n",
       "      <td>1</td>\n",
       "      <td>1</td>\n",
       "      <td>450</td>\n",
       "      <td>34550</td>\n",
       "      <td>0.642993</td>\n",
       "      <td>0.766554</td>\n",
       "      <td>0.595018</td>\n",
       "      <td>0.762284</td>\n",
       "      <td>0.531712</td>\n",
       "      <td>0.531712</td>\n",
       "      <td>7</td>\n",
       "      <td>6</td>\n",
       "    </tr>\n",
       "    <tr>\n",
       "      <th>3</th>\n",
       "      <td>40</td>\n",
       "      <td>bi-weekly</td>\n",
       "      <td>0</td>\n",
       "      <td>5230</td>\n",
       "      <td>1</td>\n",
       "      <td>2</td>\n",
       "      <td>7</td>\n",
       "      <td>1</td>\n",
       "      <td>700</td>\n",
       "      <td>42150</td>\n",
       "      <td>0.665224</td>\n",
       "      <td>0.960832</td>\n",
       "      <td>0.767828</td>\n",
       "      <td>0.778831</td>\n",
       "      <td>0.792552</td>\n",
       "      <td>0.592552</td>\n",
       "      <td>8</td>\n",
       "      <td>72</td>\n",
       "    </tr>\n",
       "    <tr>\n",
       "      <th>4</th>\n",
       "      <td>33</td>\n",
       "      <td>semi-monthly</td>\n",
       "      <td>0</td>\n",
       "      <td>3590</td>\n",
       "      <td>2</td>\n",
       "      <td>2</td>\n",
       "      <td>8</td>\n",
       "      <td>1</td>\n",
       "      <td>1100</td>\n",
       "      <td>53850</td>\n",
       "      <td>0.617361</td>\n",
       "      <td>0.857560</td>\n",
       "      <td>0.613487</td>\n",
       "      <td>0.665523</td>\n",
       "      <td>0.744634</td>\n",
       "      <td>0.744634</td>\n",
       "      <td>12</td>\n",
       "      <td>60</td>\n",
       "    </tr>\n",
       "  </tbody>\n",
       "</table>\n",
       "</div>"
      ],
      "text/plain": [
       "   age  pay_schedule  home_owner  income  current_address_year  personal_account_m  personal_account_y  has_debt  amount_requested  risk_score  risk_score_2  risk_score_3  risk_score_4  risk_score_5  ext_quality_score  ext_quality_score_2  inquiries_last_month  employed_months\n",
       "0   40     bi-weekly           1    3135                     3                   6                   2         1               550       36200      0.737398      0.903517      0.487712      0.515977           0.580918             0.380918                    10               36\n",
       "1   61        weekly           0    3180                     3                   2                   7         1               600       30150      0.738510      0.881027      0.713423      0.826402           0.730720             0.630720                     9               72\n",
       "2   23        weekly           0    1540                     0                   7                   1         1               450       34550      0.642993      0.766554      0.595018      0.762284           0.531712             0.531712                     7                6\n",
       "3   40     bi-weekly           0    5230                     1                   2                   7         1               700       42150      0.665224      0.960832      0.767828      0.778831           0.792552             0.592552                     8               72\n",
       "4   33  semi-monthly           0    3590                     2                   2                   8         1              1100       53850      0.617361      0.857560      0.613487      0.665523           0.744634             0.744634                    12               60"
      ]
     },
     "execution_count": 15,
     "metadata": {},
     "output_type": "execute_result"
    }
   ],
   "source": [
    "X.head()"
   ]
  },
  {
   "cell_type": "code",
   "execution_count": 16,
   "metadata": {
    "colab": {
     "base_uri": "https://localhost:8080/",
     "height": 307
    },
    "colab_type": "code",
    "executionInfo": {
     "elapsed": 1189,
     "status": "ok",
     "timestamp": 1586416028512,
     "user": {
      "displayName": "Subrata Samanta",
      "photoUrl": "",
      "userId": "11072672971831267133"
     },
     "user_tz": -330
    },
    "id": "T76veh1SQOfh",
    "outputId": "d9a2ff4b-a331-43a6-c053-9e10351b2741"
   },
   "outputs": [
    {
     "data": {
      "text/html": [
       "<div>\n",
       "<style scoped>\n",
       "    .dataframe tbody tr th:only-of-type {\n",
       "        vertical-align: middle;\n",
       "    }\n",
       "\n",
       "    .dataframe tbody tr th {\n",
       "        vertical-align: top;\n",
       "    }\n",
       "\n",
       "    .dataframe thead th {\n",
       "        text-align: right;\n",
       "    }\n",
       "</style>\n",
       "<table border=\"1\" class=\"dataframe\">\n",
       "  <thead>\n",
       "    <tr style=\"text-align: right;\">\n",
       "      <th></th>\n",
       "      <th>age</th>\n",
       "      <th>home_owner</th>\n",
       "      <th>income</th>\n",
       "      <th>current_address_year</th>\n",
       "      <th>personal_account_m</th>\n",
       "      <th>personal_account_y</th>\n",
       "      <th>has_debt</th>\n",
       "      <th>amount_requested</th>\n",
       "      <th>risk_score</th>\n",
       "      <th>risk_score_2</th>\n",
       "      <th>risk_score_3</th>\n",
       "      <th>risk_score_4</th>\n",
       "      <th>risk_score_5</th>\n",
       "      <th>ext_quality_score</th>\n",
       "      <th>ext_quality_score_2</th>\n",
       "      <th>inquiries_last_month</th>\n",
       "      <th>employed_months</th>\n",
       "    </tr>\n",
       "  </thead>\n",
       "  <tbody>\n",
       "    <tr>\n",
       "      <th>count</th>\n",
       "      <td>17908.000000</td>\n",
       "      <td>17908.000000</td>\n",
       "      <td>17908.000000</td>\n",
       "      <td>17908.000000</td>\n",
       "      <td>17908.000000</td>\n",
       "      <td>17908.000000</td>\n",
       "      <td>17908.000000</td>\n",
       "      <td>17908.000000</td>\n",
       "      <td>17908.000000</td>\n",
       "      <td>17908.000000</td>\n",
       "      <td>17908.000000</td>\n",
       "      <td>17908.000000</td>\n",
       "      <td>17908.000000</td>\n",
       "      <td>17908.000000</td>\n",
       "      <td>17908.000000</td>\n",
       "      <td>17908.000000</td>\n",
       "      <td>17908.000000</td>\n",
       "    </tr>\n",
       "    <tr>\n",
       "      <th>mean</th>\n",
       "      <td>43.015412</td>\n",
       "      <td>0.425173</td>\n",
       "      <td>3657.214653</td>\n",
       "      <td>3.584711</td>\n",
       "      <td>3.427183</td>\n",
       "      <td>3.503350</td>\n",
       "      <td>0.795399</td>\n",
       "      <td>950.446449</td>\n",
       "      <td>61086.302211</td>\n",
       "      <td>0.690878</td>\n",
       "      <td>0.878276</td>\n",
       "      <td>0.583155</td>\n",
       "      <td>0.718252</td>\n",
       "      <td>0.623112</td>\n",
       "      <td>0.622068</td>\n",
       "      <td>6.457226</td>\n",
       "      <td>43.508320</td>\n",
       "    </tr>\n",
       "    <tr>\n",
       "      <th>std</th>\n",
       "      <td>11.873107</td>\n",
       "      <td>0.494383</td>\n",
       "      <td>1504.890063</td>\n",
       "      <td>2.751937</td>\n",
       "      <td>2.216440</td>\n",
       "      <td>1.955568</td>\n",
       "      <td>0.403421</td>\n",
       "      <td>698.543683</td>\n",
       "      <td>15394.255020</td>\n",
       "      <td>0.090470</td>\n",
       "      <td>0.054563</td>\n",
       "      <td>0.125061</td>\n",
       "      <td>0.120697</td>\n",
       "      <td>0.139729</td>\n",
       "      <td>0.139898</td>\n",
       "      <td>3.673093</td>\n",
       "      <td>26.765085</td>\n",
       "    </tr>\n",
       "    <tr>\n",
       "      <th>min</th>\n",
       "      <td>18.000000</td>\n",
       "      <td>0.000000</td>\n",
       "      <td>905.000000</td>\n",
       "      <td>0.000000</td>\n",
       "      <td>0.000000</td>\n",
       "      <td>0.000000</td>\n",
       "      <td>0.000000</td>\n",
       "      <td>350.000000</td>\n",
       "      <td>2100.000000</td>\n",
       "      <td>0.023258</td>\n",
       "      <td>0.451371</td>\n",
       "      <td>0.016724</td>\n",
       "      <td>0.153367</td>\n",
       "      <td>0.010184</td>\n",
       "      <td>0.006622</td>\n",
       "      <td>1.000000</td>\n",
       "      <td>0.000000</td>\n",
       "    </tr>\n",
       "    <tr>\n",
       "      <th>25%</th>\n",
       "      <td>34.000000</td>\n",
       "      <td>0.000000</td>\n",
       "      <td>2580.000000</td>\n",
       "      <td>2.000000</td>\n",
       "      <td>2.000000</td>\n",
       "      <td>2.000000</td>\n",
       "      <td>1.000000</td>\n",
       "      <td>600.000000</td>\n",
       "      <td>49350.000000</td>\n",
       "      <td>0.640993</td>\n",
       "      <td>0.850882</td>\n",
       "      <td>0.500208</td>\n",
       "      <td>0.633708</td>\n",
       "      <td>0.521735</td>\n",
       "      <td>0.519677</td>\n",
       "      <td>4.000000</td>\n",
       "      <td>24.000000</td>\n",
       "    </tr>\n",
       "    <tr>\n",
       "      <th>50%</th>\n",
       "      <td>42.000000</td>\n",
       "      <td>0.000000</td>\n",
       "      <td>3260.000000</td>\n",
       "      <td>3.000000</td>\n",
       "      <td>2.000000</td>\n",
       "      <td>3.000000</td>\n",
       "      <td>1.000000</td>\n",
       "      <td>700.000000</td>\n",
       "      <td>61200.000000</td>\n",
       "      <td>0.699561</td>\n",
       "      <td>0.881004</td>\n",
       "      <td>0.588208</td>\n",
       "      <td>0.725113</td>\n",
       "      <td>0.625944</td>\n",
       "      <td>0.622974</td>\n",
       "      <td>6.000000</td>\n",
       "      <td>36.000000</td>\n",
       "    </tr>\n",
       "    <tr>\n",
       "      <th>75%</th>\n",
       "      <td>51.000000</td>\n",
       "      <td>1.000000</td>\n",
       "      <td>4670.000000</td>\n",
       "      <td>5.000000</td>\n",
       "      <td>5.000000</td>\n",
       "      <td>4.000000</td>\n",
       "      <td>1.000000</td>\n",
       "      <td>1100.000000</td>\n",
       "      <td>72750.000000</td>\n",
       "      <td>0.752887</td>\n",
       "      <td>0.912608</td>\n",
       "      <td>0.672395</td>\n",
       "      <td>0.806681</td>\n",
       "      <td>0.729841</td>\n",
       "      <td>0.728940</td>\n",
       "      <td>8.000000</td>\n",
       "      <td>60.000000</td>\n",
       "    </tr>\n",
       "    <tr>\n",
       "      <th>max</th>\n",
       "      <td>96.000000</td>\n",
       "      <td>1.000000</td>\n",
       "      <td>9985.000000</td>\n",
       "      <td>12.000000</td>\n",
       "      <td>11.000000</td>\n",
       "      <td>15.000000</td>\n",
       "      <td>1.000000</td>\n",
       "      <td>10200.000000</td>\n",
       "      <td>99750.000000</td>\n",
       "      <td>0.999997</td>\n",
       "      <td>0.999024</td>\n",
       "      <td>0.978932</td>\n",
       "      <td>0.996260</td>\n",
       "      <td>0.970249</td>\n",
       "      <td>0.966953</td>\n",
       "      <td>30.000000</td>\n",
       "      <td>201.000000</td>\n",
       "    </tr>\n",
       "  </tbody>\n",
       "</table>\n",
       "</div>"
      ],
      "text/plain": [
       "                age    home_owner        income  current_address_year  personal_account_m  personal_account_y      has_debt  amount_requested    risk_score  risk_score_2  risk_score_3  risk_score_4  risk_score_5  ext_quality_score  ext_quality_score_2  inquiries_last_month  employed_months\n",
       "count  17908.000000  17908.000000  17908.000000          17908.000000        17908.000000        17908.000000  17908.000000      17908.000000  17908.000000  17908.000000  17908.000000  17908.000000  17908.000000       17908.000000         17908.000000          17908.000000     17908.000000\n",
       "mean      43.015412      0.425173   3657.214653              3.584711            3.427183            3.503350      0.795399        950.446449  61086.302211      0.690878      0.878276      0.583155      0.718252           0.623112             0.622068              6.457226        43.508320\n",
       "std       11.873107      0.494383   1504.890063              2.751937            2.216440            1.955568      0.403421        698.543683  15394.255020      0.090470      0.054563      0.125061      0.120697           0.139729             0.139898              3.673093        26.765085\n",
       "min       18.000000      0.000000    905.000000              0.000000            0.000000            0.000000      0.000000        350.000000   2100.000000      0.023258      0.451371      0.016724      0.153367           0.010184             0.006622              1.000000         0.000000\n",
       "25%       34.000000      0.000000   2580.000000              2.000000            2.000000            2.000000      1.000000        600.000000  49350.000000      0.640993      0.850882      0.500208      0.633708           0.521735             0.519677              4.000000        24.000000\n",
       "50%       42.000000      0.000000   3260.000000              3.000000            2.000000            3.000000      1.000000        700.000000  61200.000000      0.699561      0.881004      0.588208      0.725113           0.625944             0.622974              6.000000        36.000000\n",
       "75%       51.000000      1.000000   4670.000000              5.000000            5.000000            4.000000      1.000000       1100.000000  72750.000000      0.752887      0.912608      0.672395      0.806681           0.729841             0.728940              8.000000        60.000000\n",
       "max       96.000000      1.000000   9985.000000             12.000000           11.000000           15.000000      1.000000      10200.000000  99750.000000      0.999997      0.999024      0.978932      0.996260           0.970249             0.966953             30.000000       201.000000"
      ]
     },
     "execution_count": 16,
     "metadata": {},
     "output_type": "execute_result"
    }
   ],
   "source": [
    "X.describe()"
   ]
  },
  {
   "cell_type": "markdown",
   "metadata": {
    "colab_type": "text",
    "id": "34YoBYVLQOfw"
   },
   "source": [
    "# Visualization"
   ]
  },
  {
   "cell_type": "code",
   "execution_count": 17,
   "metadata": {
    "colab": {
     "base_uri": "https://localhost:8080/",
     "height": 1000
    },
    "colab_type": "code",
    "executionInfo": {
     "elapsed": 10000,
     "status": "ok",
     "timestamp": 1586416038330,
     "user": {
      "displayName": "Subrata Samanta",
      "photoUrl": "",
      "userId": "11072672971831267133"
     },
     "user_tz": -330
    },
    "id": "VfE_bYjeQOfy",
    "outputId": "bb45d3cf-4023-46e6-920c-d889da2cf4e8"
   },
   "outputs": [
    {
     "data": {
      "image/png": "[encoded data removed]",
      "text/plain": [
       "<Figure size 1440x1440 with 20 Axes>"
      ]
     },
     "metadata": {
      "needs_background": "light"
     },
     "output_type": "display_data"
    }
   ],
   "source": [
    "X.hist(figsize=(20,20),color='orange')\n",
    "plt.show()\n"
   ]
  },
  {
   "cell_type": "code",
   "execution_count": 18,
   "metadata": {
    "colab": {
     "base_uri": "https://localhost:8080/",
     "height": 785
    },
    "colab_type": "code",
    "executionInfo": {
     "elapsed": 6599,
     "status": "ok",
     "timestamp": 1586416038332,
     "user": {
      "displayName": "Subrata Samanta",
      "photoUrl": "",
      "userId": "11072672971831267133"
     },
     "user_tz": -330
    },
    "id": "4gufh6FIQOf9",
    "outputId": "b1b4c43b-8ba6-437c-ced2-cd76b53c3e19"
   },
   "outputs": [
    {
     "data": {
      "image/png": "[encoded data removed]",
      "text/plain": [
       "<Figure size 2160x1584 with 3 Axes>"
      ]
     },
     "metadata": {},
     "output_type": "display_data"
    }
   ],
   "source": [
    "## Pie Plots\n",
    "dataset2 = X[['home_owner', 'pay_schedule', 'has_debt']]\n",
    "fig = plt.figure(figsize=(30, 22))\n",
    "plt.suptitle('Pie Chart Distributions', fontsize=40)\n",
    "for i in range(1, dataset2.shape[1] + 1):\n",
    "    plt.subplot(2, 2, i)\n",
    "    f = plt.gca()\n",
    "    f.axes.get_yaxis().set_visible(False)\n",
    "    f.set_title(dataset2.columns.values[i - 1])\n",
    "   \n",
    "    values = dataset2.iloc[:, i - 1].value_counts(normalize = True).values\n",
    "    index = dataset2.iloc[:, i - 1].value_counts(normalize = True).index\n",
    "    plt.pie(values, labels = index, autopct='%1.1f%%')\n",
    "    plt.axis('equal')\n",
    "fig.tight_layout(rect=[0, 0.03, 1, 0.96])"
   ]
  },
  {
   "cell_type": "code",
   "execution_count": 19,
   "metadata": {
    "colab": {
     "base_uri": "https://localhost:8080/",
     "height": 981
    },
    "colab_type": "code",
    "executionInfo": {
     "elapsed": 4246,
     "status": "ok",
     "timestamp": 1586416038333,
     "user": {
      "displayName": "Subrata Samanta",
      "photoUrl": "",
      "userId": "11072672971831267133"
     },
     "user_tz": -330
    },
    "id": "SYeC1bJIQOgL",
    "outputId": "0525df28-6e0c-4c8b-ca0a-0f4b8aa43c77"
   },
   "outputs": [
    {
     "data": {
      "text/plain": [
       "<matplotlib.axes._subplots.AxesSubplot at 0x7f59764f9c88>"
      ]
     },
     "execution_count": 19,
     "metadata": {},
     "output_type": "execute_result"
    },
    {
     "data": {
      "image/png": "[encoded data removed]",
      "text/plain": [
       "<Figure size 1296x1080 with 2 Axes>"
      ]
     },
     "metadata": {},
     "output_type": "display_data"
    }
   ],
   "source": [
    "## Correlation Matrix\n",
    "sns.set(style=\"dark\")\n",
    "\n",
    "# Compute the correlation matrix\n",
    "corr = X.corr()\n",
    "\n",
    "# Generate a mask for the upper triangle\n",
    "mask = np.zeros_like(corr, dtype=np.bool)\n",
    "mask[np.triu_indices_from(mask)] = True\n",
    "\n",
    "# Set up the matplotlib figure\n",
    "f, ax = plt.subplots(figsize=(18, 15))\n",
    "\n",
    "# Generate a custom diverging colormap\n",
    "cmap = sns.diverging_palette(120, 17, as_cmap=True)\n",
    "\n",
    "# Draw the heatmap with the mask and correct aspect ratio\n",
    "sns.heatmap(corr, mask=mask, cmap=cmap, vmax=.3, center=0,\n",
    "            square=True, linewidths=.5, cbar_kws={\"shrink\": .5})"
   ]
  },
  {
   "cell_type": "code",
   "execution_count": 20,
   "metadata": {
    "colab": {
     "base_uri": "https://localhost:8080/",
     "height": 217
    },
    "colab_type": "code",
    "executionInfo": {
     "elapsed": 4190,
     "status": "ok",
     "timestamp": 1586416038335,
     "user": {
      "displayName": "Subrata Samanta",
      "photoUrl": "",
      "userId": "11072672971831267133"
     },
     "user_tz": -330
    },
    "id": "1kzbPPkfQOgX",
    "outputId": "7d4e31f0-6660-4a9e-f80e-b173e21d77bf"
   },
   "outputs": [
    {
     "data": {
      "text/html": [
       "<div>\n",
       "<style scoped>\n",
       "    .dataframe tbody tr th:only-of-type {\n",
       "        vertical-align: middle;\n",
       "    }\n",
       "\n",
       "    .dataframe tbody tr th {\n",
       "        vertical-align: top;\n",
       "    }\n",
       "\n",
       "    .dataframe thead th {\n",
       "        text-align: right;\n",
       "    }\n",
       "</style>\n",
       "<table border=\"1\" class=\"dataframe\">\n",
       "  <thead>\n",
       "    <tr style=\"text-align: right;\">\n",
       "      <th></th>\n",
       "      <th>age</th>\n",
       "      <th>pay_schedule</th>\n",
       "      <th>home_owner</th>\n",
       "      <th>income</th>\n",
       "      <th>current_address_year</th>\n",
       "      <th>personal_account_m</th>\n",
       "      <th>personal_account_y</th>\n",
       "      <th>has_debt</th>\n",
       "      <th>amount_requested</th>\n",
       "      <th>risk_score</th>\n",
       "      <th>risk_score_2</th>\n",
       "      <th>risk_score_3</th>\n",
       "      <th>risk_score_4</th>\n",
       "      <th>risk_score_5</th>\n",
       "      <th>ext_quality_score</th>\n",
       "      <th>ext_quality_score_2</th>\n",
       "      <th>inquiries_last_month</th>\n",
       "      <th>employed_months</th>\n",
       "    </tr>\n",
       "  </thead>\n",
       "  <tbody>\n",
       "    <tr>\n",
       "      <th>0</th>\n",
       "      <td>40</td>\n",
       "      <td>bi-weekly</td>\n",
       "      <td>1</td>\n",
       "      <td>3135</td>\n",
       "      <td>3</td>\n",
       "      <td>6</td>\n",
       "      <td>2</td>\n",
       "      <td>1</td>\n",
       "      <td>550</td>\n",
       "      <td>36200</td>\n",
       "      <td>0.737398</td>\n",
       "      <td>0.903517</td>\n",
       "      <td>0.487712</td>\n",
       "      <td>0.515977</td>\n",
       "      <td>0.580918</td>\n",
       "      <td>0.380918</td>\n",
       "      <td>10</td>\n",
       "      <td>36</td>\n",
       "    </tr>\n",
       "    <tr>\n",
       "      <th>1</th>\n",
       "      <td>61</td>\n",
       "      <td>weekly</td>\n",
       "      <td>0</td>\n",
       "      <td>3180</td>\n",
       "      <td>3</td>\n",
       "      <td>2</td>\n",
       "      <td>7</td>\n",
       "      <td>1</td>\n",
       "      <td>600</td>\n",
       "      <td>30150</td>\n",
       "      <td>0.738510</td>\n",
       "      <td>0.881027</td>\n",
       "      <td>0.713423</td>\n",
       "      <td>0.826402</td>\n",
       "      <td>0.730720</td>\n",
       "      <td>0.630720</td>\n",
       "      <td>9</td>\n",
       "      <td>72</td>\n",
       "    </tr>\n",
       "    <tr>\n",
       "      <th>2</th>\n",
       "      <td>23</td>\n",
       "      <td>weekly</td>\n",
       "      <td>0</td>\n",
       "      <td>1540</td>\n",
       "      <td>0</td>\n",
       "      <td>7</td>\n",
       "      <td>1</td>\n",
       "      <td>1</td>\n",
       "      <td>450</td>\n",
       "      <td>34550</td>\n",
       "      <td>0.642993</td>\n",
       "      <td>0.766554</td>\n",
       "      <td>0.595018</td>\n",
       "      <td>0.762284</td>\n",
       "      <td>0.531712</td>\n",
       "      <td>0.531712</td>\n",
       "      <td>7</td>\n",
       "      <td>6</td>\n",
       "    </tr>\n",
       "    <tr>\n",
       "      <th>3</th>\n",
       "      <td>40</td>\n",
       "      <td>bi-weekly</td>\n",
       "      <td>0</td>\n",
       "      <td>5230</td>\n",
       "      <td>1</td>\n",
       "      <td>2</td>\n",
       "      <td>7</td>\n",
       "      <td>1</td>\n",
       "      <td>700</td>\n",
       "      <td>42150</td>\n",
       "      <td>0.665224</td>\n",
       "      <td>0.960832</td>\n",
       "      <td>0.767828</td>\n",
       "      <td>0.778831</td>\n",
       "      <td>0.792552</td>\n",
       "      <td>0.592552</td>\n",
       "      <td>8</td>\n",
       "      <td>72</td>\n",
       "    </tr>\n",
       "    <tr>\n",
       "      <th>4</th>\n",
       "      <td>33</td>\n",
       "      <td>semi-monthly</td>\n",
       "      <td>0</td>\n",
       "      <td>3590</td>\n",
       "      <td>2</td>\n",
       "      <td>2</td>\n",
       "      <td>8</td>\n",
       "      <td>1</td>\n",
       "      <td>1100</td>\n",
       "      <td>53850</td>\n",
       "      <td>0.617361</td>\n",
       "      <td>0.857560</td>\n",
       "      <td>0.613487</td>\n",
       "      <td>0.665523</td>\n",
       "      <td>0.744634</td>\n",
       "      <td>0.744634</td>\n",
       "      <td>12</td>\n",
       "      <td>60</td>\n",
       "    </tr>\n",
       "  </tbody>\n",
       "</table>\n",
       "</div>"
      ],
      "text/plain": [
       "   age  pay_schedule  home_owner  income  current_address_year  personal_account_m  personal_account_y  has_debt  amount_requested  risk_score  risk_score_2  risk_score_3  risk_score_4  risk_score_5  ext_quality_score  ext_quality_score_2  inquiries_last_month  employed_months\n",
       "0   40     bi-weekly           1    3135                     3                   6                   2         1               550       36200      0.737398      0.903517      0.487712      0.515977           0.580918             0.380918                    10               36\n",
       "1   61        weekly           0    3180                     3                   2                   7         1               600       30150      0.738510      0.881027      0.713423      0.826402           0.730720             0.630720                     9               72\n",
       "2   23        weekly           0    1540                     0                   7                   1         1               450       34550      0.642993      0.766554      0.595018      0.762284           0.531712             0.531712                     7                6\n",
       "3   40     bi-weekly           0    5230                     1                   2                   7         1               700       42150      0.665224      0.960832      0.767828      0.778831           0.792552             0.592552                     8               72\n",
       "4   33  semi-monthly           0    3590                     2                   2                   8         1              1100       53850      0.617361      0.857560      0.613487      0.665523           0.744634             0.744634                    12               60"
      ]
     },
     "execution_count": 20,
     "metadata": {},
     "output_type": "execute_result"
    }
   ],
   "source": [
    "X.head()"
   ]
  },
  {
   "cell_type": "markdown",
   "metadata": {
    "colab_type": "text",
    "id": "l3aW4ystQOgp"
   },
   "source": [
    "# one-hot encoding"
   ]
  },
  {
   "cell_type": "code",
   "execution_count": 21,
   "metadata": {
    "colab": {
     "base_uri": "https://localhost:8080/",
     "height": 234
    },
    "colab_type": "code",
    "executionInfo": {
     "elapsed": 3186,
     "status": "ok",
     "timestamp": 1586416038336,
     "user": {
      "displayName": "Subrata Samanta",
      "photoUrl": "",
      "userId": "11072672971831267133"
     },
     "user_tz": -330
    },
    "id": "mkIGvqSOQOgt",
    "outputId": "2eb0cbd1-b19b-4b31-d3de-cf37a24f1292"
   },
   "outputs": [
    {
     "data": {
      "text/html": [
       "<div>\n",
       "<style scoped>\n",
       "    .dataframe tbody tr th:only-of-type {\n",
       "        vertical-align: middle;\n",
       "    }\n",
       "\n",
       "    .dataframe tbody tr th {\n",
       "        vertical-align: top;\n",
       "    }\n",
       "\n",
       "    .dataframe thead th {\n",
       "        text-align: right;\n",
       "    }\n",
       "</style>\n",
       "<table border=\"1\" class=\"dataframe\">\n",
       "  <thead>\n",
       "    <tr style=\"text-align: right;\">\n",
       "      <th></th>\n",
       "      <th>age</th>\n",
       "      <th>home_owner</th>\n",
       "      <th>income</th>\n",
       "      <th>current_address_year</th>\n",
       "      <th>personal_account_m</th>\n",
       "      <th>personal_account_y</th>\n",
       "      <th>has_debt</th>\n",
       "      <th>amount_requested</th>\n",
       "      <th>risk_score</th>\n",
       "      <th>risk_score_2</th>\n",
       "      <th>risk_score_3</th>\n",
       "      <th>risk_score_4</th>\n",
       "      <th>risk_score_5</th>\n",
       "      <th>ext_quality_score</th>\n",
       "      <th>ext_quality_score_2</th>\n",
       "      <th>inquiries_last_month</th>\n",
       "      <th>employed_months</th>\n",
       "      <th>pay_schedule_bi-weekly</th>\n",
       "      <th>pay_schedule_monthly</th>\n",
       "      <th>pay_schedule_semi-monthly</th>\n",
       "      <th>pay_schedule_weekly</th>\n",
       "    </tr>\n",
       "  </thead>\n",
       "  <tbody>\n",
       "    <tr>\n",
       "      <th>0</th>\n",
       "      <td>40</td>\n",
       "      <td>1</td>\n",
       "      <td>3135</td>\n",
       "      <td>3</td>\n",
       "      <td>6</td>\n",
       "      <td>2</td>\n",
       "      <td>1</td>\n",
       "      <td>550</td>\n",
       "      <td>36200</td>\n",
       "      <td>0.737398</td>\n",
       "      <td>0.903517</td>\n",
       "      <td>0.487712</td>\n",
       "      <td>0.515977</td>\n",
       "      <td>0.580918</td>\n",
       "      <td>0.380918</td>\n",
       "      <td>10</td>\n",
       "      <td>36</td>\n",
       "      <td>1</td>\n",
       "      <td>0</td>\n",
       "      <td>0</td>\n",
       "      <td>0</td>\n",
       "    </tr>\n",
       "    <tr>\n",
       "      <th>1</th>\n",
       "      <td>61</td>\n",
       "      <td>0</td>\n",
       "      <td>3180</td>\n",
       "      <td>3</td>\n",
       "      <td>2</td>\n",
       "      <td>7</td>\n",
       "      <td>1</td>\n",
       "      <td>600</td>\n",
       "      <td>30150</td>\n",
       "      <td>0.738510</td>\n",
       "      <td>0.881027</td>\n",
       "      <td>0.713423</td>\n",
       "      <td>0.826402</td>\n",
       "      <td>0.730720</td>\n",
       "      <td>0.630720</td>\n",
       "      <td>9</td>\n",
       "      <td>72</td>\n",
       "      <td>0</td>\n",
       "      <td>0</td>\n",
       "      <td>0</td>\n",
       "      <td>1</td>\n",
       "    </tr>\n",
       "    <tr>\n",
       "      <th>2</th>\n",
       "      <td>23</td>\n",
       "      <td>0</td>\n",
       "      <td>1540</td>\n",
       "      <td>0</td>\n",
       "      <td>7</td>\n",
       "      <td>1</td>\n",
       "      <td>1</td>\n",
       "      <td>450</td>\n",
       "      <td>34550</td>\n",
       "      <td>0.642993</td>\n",
       "      <td>0.766554</td>\n",
       "      <td>0.595018</td>\n",
       "      <td>0.762284</td>\n",
       "      <td>0.531712</td>\n",
       "      <td>0.531712</td>\n",
       "      <td>7</td>\n",
       "      <td>6</td>\n",
       "      <td>0</td>\n",
       "      <td>0</td>\n",
       "      <td>0</td>\n",
       "      <td>1</td>\n",
       "    </tr>\n",
       "    <tr>\n",
       "      <th>3</th>\n",
       "      <td>40</td>\n",
       "      <td>0</td>\n",
       "      <td>5230</td>\n",
       "      <td>1</td>\n",
       "      <td>2</td>\n",
       "      <td>7</td>\n",
       "      <td>1</td>\n",
       "      <td>700</td>\n",
       "      <td>42150</td>\n",
       "      <td>0.665224</td>\n",
       "      <td>0.960832</td>\n",
       "      <td>0.767828</td>\n",
       "      <td>0.778831</td>\n",
       "      <td>0.792552</td>\n",
       "      <td>0.592552</td>\n",
       "      <td>8</td>\n",
       "      <td>72</td>\n",
       "      <td>1</td>\n",
       "      <td>0</td>\n",
       "      <td>0</td>\n",
       "      <td>0</td>\n",
       "    </tr>\n",
       "    <tr>\n",
       "      <th>4</th>\n",
       "      <td>33</td>\n",
       "      <td>0</td>\n",
       "      <td>3590</td>\n",
       "      <td>2</td>\n",
       "      <td>2</td>\n",
       "      <td>8</td>\n",
       "      <td>1</td>\n",
       "      <td>1100</td>\n",
       "      <td>53850</td>\n",
       "      <td>0.617361</td>\n",
       "      <td>0.857560</td>\n",
       "      <td>0.613487</td>\n",
       "      <td>0.665523</td>\n",
       "      <td>0.744634</td>\n",
       "      <td>0.744634</td>\n",
       "      <td>12</td>\n",
       "      <td>60</td>\n",
       "      <td>0</td>\n",
       "      <td>0</td>\n",
       "      <td>1</td>\n",
       "      <td>0</td>\n",
       "    </tr>\n",
       "  </tbody>\n",
       "</table>\n",
       "</div>"
      ],
      "text/plain": [
       "   age  home_owner  income  current_address_year  personal_account_m  personal_account_y  has_debt  amount_requested  risk_score  risk_score_2  risk_score_3  risk_score_4  risk_score_5  ext_quality_score  ext_quality_score_2  inquiries_last_month  employed_months  pay_schedule_bi-weekly  pay_schedule_monthly  pay_schedule_semi-monthly  pay_schedule_weekly\n",
       "0   40           1    3135                     3                   6                   2         1               550       36200      0.737398      0.903517      0.487712      0.515977           0.580918             0.380918                    10               36                       1                     0                          0                    0\n",
       "1   61           0    3180                     3                   2                   7         1               600       30150      0.738510      0.881027      0.713423      0.826402           0.730720             0.630720                     9               72                       0                     0                          0                    1\n",
       "2   23           0    1540                     0                   7                   1         1               450       34550      0.642993      0.766554      0.595018      0.762284           0.531712             0.531712                     7                6                       0                     0                          0                    1\n",
       "3   40           0    5230                     1                   2                   7         1               700       42150      0.665224      0.960832      0.767828      0.778831           0.792552             0.592552                     8               72                       1                     0                          0                    0\n",
       "4   33           0    3590                     2                   2                   8         1              1100       53850      0.617361      0.857560      0.613487      0.665523           0.744634             0.744634                    12               60                       0                     0                          1                    0"
      ]
     },
     "execution_count": 21,
     "metadata": {},
     "output_type": "execute_result"
    }
   ],
   "source": [
    "\n",
    "X = pd.get_dummies(X)\n",
    "X.head()"
   ]
  },
  {
   "cell_type": "code",
   "execution_count": 22,
   "metadata": {
    "colab": {
     "base_uri": "https://localhost:8080/",
     "height": 34
    },
    "colab_type": "code",
    "executionInfo": {
     "elapsed": 4292,
     "status": "ok",
     "timestamp": 1586416040587,
     "user": {
      "displayName": "Subrata Samanta",
      "photoUrl": "",
      "userId": "11072672971831267133"
     },
     "user_tz": -330
    },
    "id": "1Aq-P9fcQOg7",
    "outputId": "6b864452-4e71-432e-c9cc-b7be7ca87bb2"
   },
   "outputs": [
    {
     "data": {
      "text/plain": [
       "(17908, 20)"
      ]
     },
     "execution_count": 22,
     "metadata": {},
     "output_type": "execute_result"
    }
   ],
   "source": [
    "\n",
    "X.drop(labels='pay_schedule_bi-weekly',inplace=True,axis=1)\n",
    "col = X.columns\n",
    "X.shape"
   ]
  },
  {
   "cell_type": "markdown",
   "metadata": {
    "colab_type": "text",
    "id": "KLReagslQOhK"
   },
   "source": [
    "# feature scaling"
   ]
  },
  {
   "cell_type": "code",
   "execution_count": 23,
   "metadata": {
    "colab": {},
    "colab_type": "code",
    "id": "HyrWkAFDQOhM"
   },
   "outputs": [],
   "source": [
    "SS = StandardScaler()\n",
    "X = SS.fit_transform(X)"
   ]
  },
  {
   "cell_type": "code",
   "execution_count": 24,
   "metadata": {
    "colab": {
     "base_uri": "https://localhost:8080/",
     "height": 234
    },
    "colab_type": "code",
    "executionInfo": {
     "elapsed": 4005,
     "status": "ok",
     "timestamp": 1586416040592,
     "user": {
      "displayName": "Subrata Samanta",
      "photoUrl": "",
      "userId": "11072672971831267133"
     },
     "user_tz": -330
    },
    "id": "NunGsXy4QOhd",
    "outputId": "777e68e2-1ef1-4b27-889f-054fcd8ba23b"
   },
   "outputs": [
    {
     "data": {
      "text/html": [
       "<div>\n",
       "<style scoped>\n",
       "    .dataframe tbody tr th:only-of-type {\n",
       "        vertical-align: middle;\n",
       "    }\n",
       "\n",
       "    .dataframe tbody tr th {\n",
       "        vertical-align: top;\n",
       "    }\n",
       "\n",
       "    .dataframe thead th {\n",
       "        text-align: right;\n",
       "    }\n",
       "</style>\n",
       "<table border=\"1\" class=\"dataframe\">\n",
       "  <thead>\n",
       "    <tr style=\"text-align: right;\">\n",
       "      <th></th>\n",
       "      <th>age</th>\n",
       "      <th>home_owner</th>\n",
       "      <th>income</th>\n",
       "      <th>current_address_year</th>\n",
       "      <th>personal_account_m</th>\n",
       "      <th>personal_account_y</th>\n",
       "      <th>has_debt</th>\n",
       "      <th>amount_requested</th>\n",
       "      <th>risk_score</th>\n",
       "      <th>risk_score_2</th>\n",
       "      <th>risk_score_3</th>\n",
       "      <th>risk_score_4</th>\n",
       "      <th>risk_score_5</th>\n",
       "      <th>ext_quality_score</th>\n",
       "      <th>ext_quality_score_2</th>\n",
       "      <th>inquiries_last_month</th>\n",
       "      <th>employed_months</th>\n",
       "      <th>pay_schedule_monthly</th>\n",
       "      <th>pay_schedule_semi-monthly</th>\n",
       "      <th>pay_schedule_weekly</th>\n",
       "    </tr>\n",
       "  </thead>\n",
       "  <tbody>\n",
       "    <tr>\n",
       "      <th>0</th>\n",
       "      <td>-0.253977</td>\n",
       "      <td>1.162748</td>\n",
       "      <td>-0.347022</td>\n",
       "      <td>-0.212478</td>\n",
       "      <td>1.160820</td>\n",
       "      <td>-0.768775</td>\n",
       "      <td>0.50718</td>\n",
       "      <td>-0.573275</td>\n",
       "      <td>-1.616642</td>\n",
       "      <td>0.514223</td>\n",
       "      <td>0.462623</td>\n",
       "      <td>-0.763184</td>\n",
       "      <td>-1.675935</td>\n",
       "      <td>-0.301983</td>\n",
       "      <td>-1.723802</td>\n",
       "      <td>0.964548</td>\n",
       "      <td>-0.280535</td>\n",
       "      <td>-0.301475</td>\n",
       "      <td>-0.354973</td>\n",
       "      <td>-0.509963</td>\n",
       "    </tr>\n",
       "    <tr>\n",
       "      <th>1</th>\n",
       "      <td>1.514775</td>\n",
       "      <td>-0.860031</td>\n",
       "      <td>-0.317118</td>\n",
       "      <td>-0.212478</td>\n",
       "      <td>-0.643926</td>\n",
       "      <td>1.788098</td>\n",
       "      <td>0.50718</td>\n",
       "      <td>-0.501696</td>\n",
       "      <td>-2.009657</td>\n",
       "      <td>0.526513</td>\n",
       "      <td>0.050418</td>\n",
       "      <td>1.041669</td>\n",
       "      <td>0.896068</td>\n",
       "      <td>0.770140</td>\n",
       "      <td>0.061845</td>\n",
       "      <td>0.692290</td>\n",
       "      <td>1.064539</td>\n",
       "      <td>-0.301475</td>\n",
       "      <td>-0.354973</td>\n",
       "      <td>1.960928</td>\n",
       "    </tr>\n",
       "    <tr>\n",
       "      <th>2</th>\n",
       "      <td>-1.685824</td>\n",
       "      <td>-0.860031</td>\n",
       "      <td>-1.406929</td>\n",
       "      <td>-1.302650</td>\n",
       "      <td>1.612007</td>\n",
       "      <td>-1.280150</td>\n",
       "      <td>0.50718</td>\n",
       "      <td>-0.716434</td>\n",
       "      <td>-1.723828</td>\n",
       "      <td>-0.529297</td>\n",
       "      <td>-2.047629</td>\n",
       "      <td>0.094863</td>\n",
       "      <td>0.364822</td>\n",
       "      <td>-0.654147</td>\n",
       "      <td>-0.645889</td>\n",
       "      <td>0.147774</td>\n",
       "      <td>-1.401429</td>\n",
       "      <td>-0.301475</td>\n",
       "      <td>-0.354973</td>\n",
       "      <td>1.960928</td>\n",
       "    </tr>\n",
       "    <tr>\n",
       "      <th>3</th>\n",
       "      <td>-0.253977</td>\n",
       "      <td>-0.860031</td>\n",
       "      <td>1.045146</td>\n",
       "      <td>-0.939260</td>\n",
       "      <td>-0.643926</td>\n",
       "      <td>1.788098</td>\n",
       "      <td>0.50718</td>\n",
       "      <td>-0.358537</td>\n",
       "      <td>-1.230123</td>\n",
       "      <td>-0.283571</td>\n",
       "      <td>1.513086</td>\n",
       "      <td>1.476706</td>\n",
       "      <td>0.501921</td>\n",
       "      <td>1.212668</td>\n",
       "      <td>-0.210989</td>\n",
       "      <td>0.420032</td>\n",
       "      <td>1.064539</td>\n",
       "      <td>-0.301475</td>\n",
       "      <td>-0.354973</td>\n",
       "      <td>-0.509963</td>\n",
       "    </tr>\n",
       "    <tr>\n",
       "      <th>4</th>\n",
       "      <td>-0.843561</td>\n",
       "      <td>-0.860031</td>\n",
       "      <td>-0.044665</td>\n",
       "      <td>-0.575869</td>\n",
       "      <td>-0.643926</td>\n",
       "      <td>2.299472</td>\n",
       "      <td>0.50718</td>\n",
       "      <td>0.214099</td>\n",
       "      <td>-0.470078</td>\n",
       "      <td>-0.812623</td>\n",
       "      <td>-0.379682</td>\n",
       "      <td>0.242545</td>\n",
       "      <td>-0.436878</td>\n",
       "      <td>0.869722</td>\n",
       "      <td>0.876131</td>\n",
       "      <td>1.509063</td>\n",
       "      <td>0.616181</td>\n",
       "      <td>-0.301475</td>\n",
       "      <td>2.817113</td>\n",
       "      <td>-0.509963</td>\n",
       "    </tr>\n",
       "  </tbody>\n",
       "</table>\n",
       "</div>"
      ],
      "text/plain": [
       "        age  home_owner    income  current_address_year  personal_account_m  personal_account_y  has_debt  amount_requested  risk_score  risk_score_2  risk_score_3  risk_score_4  risk_score_5  ext_quality_score  ext_quality_score_2  inquiries_last_month  employed_months  pay_schedule_monthly  pay_schedule_semi-monthly  pay_schedule_weekly\n",
       "0 -0.253977    1.162748 -0.347022             -0.212478            1.160820           -0.768775   0.50718         -0.573275   -1.616642      0.514223      0.462623     -0.763184     -1.675935          -0.301983            -1.723802              0.964548        -0.280535             -0.301475                  -0.354973            -0.509963\n",
       "1  1.514775   -0.860031 -0.317118             -0.212478           -0.643926            1.788098   0.50718         -0.501696   -2.009657      0.526513      0.050418      1.041669      0.896068           0.770140             0.061845              0.692290         1.064539             -0.301475                  -0.354973             1.960928\n",
       "2 -1.685824   -0.860031 -1.406929             -1.302650            1.612007           -1.280150   0.50718         -0.716434   -1.723828     -0.529297     -2.047629      0.094863      0.364822          -0.654147            -0.645889              0.147774        -1.401429             -0.301475                  -0.354973             1.960928\n",
       "3 -0.253977   -0.860031  1.045146             -0.939260           -0.643926            1.788098   0.50718         -0.358537   -1.230123     -0.283571      1.513086      1.476706      0.501921           1.212668            -0.210989              0.420032         1.064539             -0.301475                  -0.354973            -0.509963\n",
       "4 -0.843561   -0.860031 -0.044665             -0.575869           -0.643926            2.299472   0.50718          0.214099   -0.470078     -0.812623     -0.379682      0.242545     -0.436878           0.869722             0.876131              1.509063         0.616181             -0.301475                   2.817113            -0.509963"
      ]
     },
     "execution_count": 24,
     "metadata": {},
     "output_type": "execute_result"
    }
   ],
   "source": [
    "X = pd.DataFrame(X)\n",
    "X.columns = col\n",
    "X.head()"
   ]
  },
  {
   "cell_type": "markdown",
   "metadata": {
    "colab_type": "text",
    "id": "BuMgIr9OQOhn"
   },
   "source": [
    "# Balancing the data "
   ]
  },
  {
   "cell_type": "code",
   "execution_count": 30,
   "metadata": {
    "colab": {
     "base_uri": "https://localhost:8080/",
     "height": 70
    },
    "colab_type": "code",
    "executionInfo": {
     "elapsed": 3957,
     "status": "ok",
     "timestamp": 1586416040594,
     "user": {
      "displayName": "Subrata Samanta",
      "photoUrl": "",
      "userId": "11072672971831267133"
     },
     "user_tz": -330
    },
    "id": "cDKiYnDlQOhq",
    "outputId": "611f9320-2738-4555-b301-654b8477e882"
   },
   "outputs": [
    {
     "data": {
      "text/plain": [
       "1    9639\n",
       "0    8269\n",
       "Name: e_signed, dtype: int64"
      ]
     },
     "execution_count": 30,
     "metadata": {},
     "output_type": "execute_result"
    }
   ],
   "source": [
    "Y.value_counts()"
   ]
  },
  {
   "cell_type": "code",
   "execution_count": 31,
   "metadata": {
    "colab": {
     "base_uri": "https://localhost:8080/",
     "height": 107
    },
    "colab_type": "code",
    "executionInfo": {
     "elapsed": 3101,
     "status": "ok",
     "timestamp": 1586416040595,
     "user": {
      "displayName": "Subrata Samanta",
      "photoUrl": "",
      "userId": "11072672971831267133"
     },
     "user_tz": -330
    },
    "id": "VH92cp-IQOhz",
    "outputId": "4fe947e5-46db-4f0c-c056-5df5e99e7dbd"
   },
   "outputs": [
    {
     "name": "stderr",
     "output_type": "stream",
     "text": [
      "Using TensorFlow backend.\n"
     ]
    }
   ],
   "source": [
    "from imblearn.over_sampling import SMOTE"
   ]
  },
  {
   "cell_type": "code",
   "execution_count": 33,
   "metadata": {
    "colab": {
     "base_uri": "https://localhost:8080/",
     "height": 125
    },
    "colab_type": "code",
    "executionInfo": {
     "elapsed": 8280,
     "status": "ok",
     "timestamp": 1586416046896,
     "user": {
      "displayName": "Subrata Samanta",
      "photoUrl": "",
      "userId": "11072672971831267133"
     },
     "user_tz": -330
    },
    "id": "XAmqANQjQOh-",
    "outputId": "a380a300-7eb9-4a03-b66c-232fb2e984c4"
   },
   "outputs": [
    {
     "data": {
      "text/plain": [
       "1    9639\n",
       "0    9639\n",
       "Name: e_signed, dtype: int64"
      ]
     },
     "execution_count": 33,
     "metadata": {},
     "output_type": "execute_result"
    }
   ],
   "source": [
    "SE = SMOTE(random_state=42)\n",
    "X_resampled , Y_resample = SE.fit_resample(X,Y)\n",
    "pd.Series(Y_resample).value_counts()"
   ]
  },
  {
   "cell_type": "code",
   "execution_count": 34,
   "metadata": {
    "colab": {
     "base_uri": "https://localhost:8080/",
     "height": 34
    },
    "colab_type": "code",
    "executionInfo": {
     "elapsed": 7531,
     "status": "ok",
     "timestamp": 1586416046899,
     "user": {
      "displayName": "Subrata Samanta",
      "photoUrl": "",
      "userId": "11072672971831267133"
     },
     "user_tz": -330
    },
    "id": "fLY3Aj4PQOiH",
    "outputId": "8b0c5ebd-e595-40df-ce8b-f6a868a951c1"
   },
   "outputs": [
    {
     "data": {
      "text/plain": [
       "(19278, 20)"
      ]
     },
     "execution_count": 34,
     "metadata": {},
     "output_type": "execute_result"
    }
   ],
   "source": [
    "X_resampled.shape"
   ]
  },
  {
   "cell_type": "markdown",
   "metadata": {
    "colab_type": "text",
    "id": "RLb9MoF1QOiQ"
   },
   "source": [
    "# Model Fitting "
   ]
  },
  {
   "cell_type": "code",
   "execution_count": 49,
   "metadata": {
    "colab": {},
    "colab_type": "code",
    "id": "26JEo0YUQOiT"
   },
   "outputs": [],
   "source": [
    "# Functionalize model fittting\n",
    "\n",
    "def FitModel(X,Y,algo_name,algorithm,gridSearchParams,cv):\n",
    "    np.random.seed(10)\n",
    "    x_train,x_test,y_train,y_test = train_test_split(X,Y, test_size = 0.2)\n",
    "    \n",
    "    \n",
    "    grid = GridSearchCV(\n",
    "        estimator=algorithm,\n",
    "        param_grid=gridSearchParams,\n",
    "        cv=cv, scoring='accuracy', verbose=1, n_jobs=3)\n",
    "    \n",
    "    \n",
    "    grid_result = grid.fit(x_train, y_train)\n",
    "    best_params = grid_result.best_params_\n",
    "    pred = grid_result.predict(x_test)\n",
    "    cm = confusion_matrix(y_test, pred)\n",
    "   # metrics =grid_result.gr\n",
    "    print(pred)\n",
    "    #pickle.dump(grid_result,open(algo_name,'wb'))\n",
    "   \n",
    "    print('Best Params :',best_params)\n",
    "    print('Classification Report :',classification_report(y_test,pred))\n",
    "    print('Accuracy Score : ' + str(accuracy_score(y_test,pred)))\n",
    "    print('Confusion Matrix : \\n', cm)"
   ]
  },
  {
   "cell_type": "markdown",
   "metadata": {
    "colab_type": "text",
    "id": "7TSZ396XQOid"
   },
   "source": [
    "# Logistic Regression"
   ]
  },
  {
   "cell_type": "code",
   "execution_count": 36,
   "metadata": {
    "colab": {
     "base_uri": "https://localhost:8080/",
     "height": 354
    },
    "colab_type": "code",
    "executionInfo": {
     "elapsed": 8772,
     "status": "ok",
     "timestamp": 1586416049742,
     "user": {
      "displayName": "Subrata Samanta",
      "photoUrl": "",
      "userId": "11072672971831267133"
     },
     "user_tz": -330
    },
    "id": "WRx8I2VSQOij",
    "outputId": "558ba9c5-acde-4692-e937-bc0e8aead0ae"
   },
   "outputs": [
    {
     "name": "stdout",
     "output_type": "stream",
     "text": [
      "Fitting 5 folds for each of 20 candidates, totalling 100 fits\n"
     ]
    },
    {
     "name": "stderr",
     "output_type": "stream",
     "text": [
      "[Parallel(n_jobs=-1)]: Using backend LokyBackend with 8 concurrent workers.\n",
      "[Parallel(n_jobs=-1)]: Done  34 tasks      | elapsed:    1.2s\n"
     ]
    },
    {
     "name": "stdout",
     "output_type": "stream",
     "text": [
      "[0 1 0 ... 1 0 1]\n",
      "Best Params : {'C': 1.0, 'penalty': 'l2'}\n",
      "Classification Report :               precision    recall  f1-score   support\n",
      "\n",
      "           0       0.58      0.58      0.58      1904\n",
      "           1       0.59      0.59      0.59      1952\n",
      "\n",
      "    accuracy                           0.58      3856\n",
      "   macro avg       0.58      0.58      0.58      3856\n",
      "weighted avg       0.58      0.58      0.58      3856\n",
      "\n",
      "Accuracy Score : 0.5842842323651453\n",
      "Confusion Matrix : \n",
      " [[1108  796]\n",
      " [ 807 1145]]\n"
     ]
    },
    {
     "name": "stderr",
     "output_type": "stream",
     "text": [
      "[Parallel(n_jobs=-1)]: Done 100 out of 100 | elapsed:    1.5s finished\n"
     ]
    }
   ],
   "source": [
    "# Create regularization penalty space\n",
    "penalty = ['l1', 'l2']\n",
    "\n",
    "# Create regularization hyperparameter space\n",
    "C = np.logspace(0, 4, 10)\n",
    "\n",
    "# Create hyperparameter options\n",
    "hyperparameters = dict(C=C, penalty=penalty)\n",
    "\n",
    "FitModel(X_resampled,Y_resample,'LogisticRegression_OB',LogisticRegression(),hyperparameters,cv=5)"
   ]
  },
  {
   "cell_type": "code",
   "execution_count": 37,
   "metadata": {
    "colab": {
     "base_uri": "https://localhost:8080/",
     "height": 70
    },
    "colab_type": "code",
    "executionInfo": {
     "elapsed": 6498,
     "status": "ok",
     "timestamp": 1586416049744,
     "user": {
      "displayName": "Subrata Samanta",
      "photoUrl": "",
      "userId": "11072672971831267133"
     },
     "user_tz": -330
    },
    "id": "C_RYPSCgQOi6",
    "outputId": "2964aea8-bc4b-4514-b614-d05e86cf3613"
   },
   "outputs": [
    {
     "data": {
      "text/plain": [
       "array([1.00000000e+00, 2.78255940e+00, 7.74263683e+00, 2.15443469e+01,\n",
       "       5.99484250e+01, 1.66810054e+02, 4.64158883e+02, 1.29154967e+03,\n",
       "       3.59381366e+03, 1.00000000e+04])"
      ]
     },
     "execution_count": 37,
     "metadata": {},
     "output_type": "execute_result"
    }
   ],
   "source": [
    " np.logspace(0, 4, 10)"
   ]
  },
  {
   "cell_type": "markdown",
   "metadata": {
    "colab_type": "text",
    "id": "16erdoEjQOjN"
   },
   "source": [
    "# Random Forest"
   ]
  },
  {
   "cell_type": "code",
   "execution_count": 38,
   "metadata": {
    "colab": {
     "base_uri": "https://localhost:8080/",
     "height": 392
    },
    "colab_type": "code",
    "executionInfo": {
     "elapsed": 489235,
     "status": "ok",
     "timestamp": 1586416532555,
     "user": {
      "displayName": "Subrata Samanta",
      "photoUrl": "",
      "userId": "11072672971831267133"
     },
     "user_tz": -330
    },
    "id": "d3zy-0g_QOjQ",
    "outputId": "68017cdb-5010-4369-f2e3-120447556cf2"
   },
   "outputs": [
    {
     "name": "stdout",
     "output_type": "stream",
     "text": [
      "Fitting 5 folds for each of 4 candidates, totalling 20 fits\n"
     ]
    },
    {
     "name": "stderr",
     "output_type": "stream",
     "text": [
      "[Parallel(n_jobs=-1)]: Using backend LokyBackend with 8 concurrent workers.\n",
      "[Parallel(n_jobs=-1)]: Done  20 out of  20 | elapsed:  2.1min finished\n"
     ]
    },
    {
     "name": "stdout",
     "output_type": "stream",
     "text": [
      "[0 0 0 ... 1 0 0]\n",
      "Best Params : {'n_estimators': 2000}\n",
      "Classification Report :               precision    recall  f1-score   support\n",
      "\n",
      "           0       0.66      0.70      0.68      1904\n",
      "           1       0.69      0.65      0.67      1952\n",
      "\n",
      "    accuracy                           0.67      3856\n",
      "   macro avg       0.67      0.67      0.67      3856\n",
      "weighted avg       0.67      0.67      0.67      3856\n",
      "\n",
      "Accuracy Score : 0.6740145228215768\n",
      "Confusion Matrix : \n",
      " [[1324  580]\n",
      " [ 677 1275]]\n"
     ]
    }
   ],
   "source": [
    "param ={\n",
    "            'n_estimators': [100, 500, 1000, 2000],\n",
    "           \n",
    "        }\n",
    "FitModel(X_resampled,Y_resample,'Random Forest_OS',RandomForestClassifier(),param,cv=5)"
   ]
  },
  {
   "cell_type": "markdown",
   "metadata": {
    "colab_type": "text",
    "id": "ndDMb9gjQOjf"
   },
   "source": [
    "# SVC"
   ]
  },
  {
   "cell_type": "code",
   "execution_count": 39,
   "metadata": {
    "colab": {
     "base_uri": "https://localhost:8080/",
     "height": 70
    },
    "colab_type": "code",
    "id": "f0S_HSIxQOjh",
    "outputId": "efaa61d4-961c-4f4a-b134-243dba06aca4"
   },
   "outputs": [
    {
     "name": "stdout",
     "output_type": "stream",
     "text": [
      "Fitting 5 folds for each of 28 candidates, totalling 140 fits\n"
     ]
    },
    {
     "name": "stderr",
     "output_type": "stream",
     "text": [
      "[Parallel(n_jobs=-1)]: Using backend LokyBackend with 8 concurrent workers.\n",
      "[Parallel(n_jobs=-1)]: Done  34 tasks      | elapsed:  1.4min\n",
      "[Parallel(n_jobs=-1)]: Done 140 out of 140 | elapsed: 11.7min finished\n"
     ]
    },
    {
     "name": "stdout",
     "output_type": "stream",
     "text": [
      "[0 0 0 ... 0 0 0]\n",
      "Best Params : {'C': 1, 'gamma': 0.1}\n",
      "Classification Report :               precision    recall  f1-score   support\n",
      "\n",
      "           0       0.62      0.66      0.64      1904\n",
      "           1       0.65      0.60      0.62      1952\n",
      "\n",
      "    accuracy                           0.63      3856\n",
      "   macro avg       0.63      0.63      0.63      3856\n",
      "weighted avg       0.63      0.63      0.63      3856\n",
      "\n",
      "Accuracy Score : 0.6322614107883817\n",
      "Confusion Matrix : \n",
      " [[1258  646]\n",
      " [ 772 1180]]\n"
     ]
    }
   ],
   "source": [
    "param ={\n",
    "            'C': [0.1, 1, 100, 1000],\n",
    "            'gamma': [0.0001, 0.001, 0.005, 0.1, 1, 3, 5]\n",
    "        }\n",
    "FitModel(X_resampled,Y_resample,'SVC_OS',SVC(),param,cv=5)"
   ]
  },
  {
   "cell_type": "markdown",
   "metadata": {
    "colab_type": "text",
    "id": "E-zpf6nMQOjq"
   },
   "source": [
    "# XGBoost"
   ]
  },
  {
   "cell_type": "code",
   "execution_count": 40,
   "metadata": {
    "colab": {},
    "colab_type": "code",
    "id": "3duIjNpfQOjs"
   },
   "outputs": [
    {
     "name": "stdout",
     "output_type": "stream",
     "text": [
      "Fitting 5 folds for each of 20 candidates, totalling 100 fits\n"
     ]
    },
    {
     "name": "stderr",
     "output_type": "stream",
     "text": [
      "[Parallel(n_jobs=-1)]: Using backend LokyBackend with 8 concurrent workers.\n",
      "[Parallel(n_jobs=-1)]: Done  34 tasks      | elapsed:   49.3s\n",
      "[Parallel(n_jobs=-1)]: Done 100 out of 100 | elapsed:  4.4min finished\n"
     ]
    },
    {
     "name": "stdout",
     "output_type": "stream",
     "text": [
      "[0 0 0 ... 0 0 0]\n",
      "Best Params : {'max_depth': 2, 'n_estimators': 500}\n",
      "Classification Report :               precision    recall  f1-score   support\n",
      "\n",
      "           0       0.65      0.64      0.65      1904\n",
      "           1       0.66      0.67      0.66      1952\n",
      "\n",
      "    accuracy                           0.65      3856\n",
      "   macro avg       0.65      0.65      0.65      3856\n",
      "weighted avg       0.65      0.65      0.65      3856\n",
      "\n",
      "Accuracy Score : 0.6548236514522822\n",
      "Confusion Matrix : \n",
      " [[1214  690]\n",
      " [ 641 1311]]\n"
     ]
    }
   ],
   "source": [
    "param ={\n",
    "            'n_estimators': [100, 500, 1000, 2000],\n",
    "            'max_depth':[2,3,4,5,6]\n",
    "           \n",
    "        }\n",
    "FitModel(X_resampled,Y_resample,'XGBoost_OS',XGBClassifier(),param,cv=5)"
   ]
  },
  {
   "cell_type": "markdown",
   "metadata": {
    "colab_type": "text",
    "id": "0KksWaXtQOj4"
   },
   "source": [
    "# LightGBM"
   ]
  },
  {
   "cell_type": "code",
   "execution_count": 43,
   "metadata": {
    "colab": {},
    "colab_type": "code",
    "id": "ugy3EigzQOj5"
   },
   "outputs": [],
   "source": [
    "from lightgbm import LGBMClassifier"
   ]
  },
  {
   "cell_type": "code",
   "execution_count": 44,
   "metadata": {
    "colab": {},
    "colab_type": "code",
    "id": "A1NMA397QOkJ"
   },
   "outputs": [
    {
     "name": "stdout",
     "output_type": "stream",
     "text": [
      "Fitting 5 folds for each of 96 candidates, totalling 480 fits\n"
     ]
    },
    {
     "name": "stderr",
     "output_type": "stream",
     "text": [
      "[Parallel(n_jobs=-1)]: Using backend LokyBackend with 8 concurrent workers.\n",
      "[Parallel(n_jobs=-1)]: Done  34 tasks      | elapsed:   23.2s\n",
      "[Parallel(n_jobs=-1)]: Done 184 tasks      | elapsed:  2.7min\n",
      "[Parallel(n_jobs=-1)]: Done 434 tasks      | elapsed:  6.0min\n",
      "[Parallel(n_jobs=-1)]: Done 480 out of 480 | elapsed:  6.8min finished\n"
     ]
    },
    {
     "name": "stdout",
     "output_type": "stream",
     "text": [
      "[0 0 0 ... 1 0 0]\n",
      "Best Params : {'learning_rate': 0.03, 'max_depth': 10, 'n_estimators': 500}\n",
      "Classification Report :               precision    recall  f1-score   support\n",
      "\n",
      "           0       0.66      0.67      0.66      1904\n",
      "           1       0.67      0.66      0.67      1952\n",
      "\n",
      "    accuracy                           0.67      3856\n",
      "   macro avg       0.67      0.67      0.67      3856\n",
      "weighted avg       0.67      0.67      0.67      3856\n",
      "\n",
      "Accuracy Score : 0.6651970954356846\n",
      "Confusion Matrix : \n",
      " [[1278  626]\n",
      " [ 665 1287]]\n"
     ]
    }
   ],
   "source": [
    "\n",
    "params = {}\n",
    "params['learning_rate'] = [0.003,0.001,0.03,0.01,0.3,0.1]\n",
    "params['max_depth'] = [5,10,15,20]\n",
    "params['n_estimators']= [100, 500, 1000, 2000]\n",
    "\n",
    "FitModel(X_resampled,Y_resample,'LightGBM_OS',LGBMClassifier(objective='binary',boosting_type='gbdt'),params,cv=5)\n",
    "\n",
    "\n",
    "\n"
   ]
  },
  {
   "cell_type": "markdown",
   "metadata": {
    "colab_type": "text",
    "id": "lk8YnLHWQOkW"
   },
   "source": [
    "# CatBoost"
   ]
  },
  {
   "cell_type": "code",
   "execution_count": 46,
   "metadata": {
    "colab": {},
    "colab_type": "code",
    "id": "0ZxU1YiVQOkX"
   },
   "outputs": [],
   "source": [
    "from catboost import CatBoostClassifier"
   ]
  },
  {
   "cell_type": "code",
   "execution_count": 51,
   "metadata": {
    "colab": {},
    "colab_type": "code",
    "id": "kheIr2rqQOkf"
   },
   "outputs": [
    {
     "name": "stdout",
     "output_type": "stream",
     "text": [
      "Fitting 5 folds for each of 24 candidates, totalling 120 fits\n"
     ]
    },
    {
     "name": "stderr",
     "output_type": "stream",
     "text": [
      "[Parallel(n_jobs=3)]: Using backend LokyBackend with 3 concurrent workers.\n",
      "[Parallel(n_jobs=3)]: Done  44 tasks      | elapsed:   45.8s\n",
      "[Parallel(n_jobs=3)]: Done 120 out of 120 | elapsed: 71.1min finished\n"
     ]
    },
    {
     "name": "stdout",
     "output_type": "stream",
     "text": [
      "0:\tlearn: 0.6791892\ttotal: 27ms\tremaining: 2.67s\n",
      "1:\tlearn: 0.6663920\ttotal: 52.4ms\tremaining: 2.57s\n",
      "2:\tlearn: 0.6563057\ttotal: 60.4ms\tremaining: 1.95s\n",
      "3:\tlearn: 0.6475358\ttotal: 68.3ms\tremaining: 1.64s\n",
      "4:\tlearn: 0.6435085\ttotal: 76.3ms\tremaining: 1.45s\n",
      "5:\tlearn: 0.6407906\ttotal: 84.3ms\tremaining: 1.32s\n",
      "6:\tlearn: 0.6389279\ttotal: 93.7ms\tremaining: 1.25s\n",
      "7:\tlearn: 0.6354129\ttotal: 102ms\tremaining: 1.17s\n",
      "8:\tlearn: 0.6329641\ttotal: 110ms\tremaining: 1.11s\n",
      "9:\tlearn: 0.6305108\ttotal: 118ms\tremaining: 1.06s\n",
      "10:\tlearn: 0.6244016\ttotal: 126ms\tremaining: 1.02s\n",
      "11:\tlearn: 0.6196370\ttotal: 134ms\tremaining: 984ms\n",
      "12:\tlearn: 0.6180659\ttotal: 142ms\tremaining: 951ms\n",
      "13:\tlearn: 0.6154196\ttotal: 150ms\tremaining: 921ms\n",
      "14:\tlearn: 0.6145303\ttotal: 158ms\tremaining: 893ms\n",
      "15:\tlearn: 0.6131071\ttotal: 164ms\tremaining: 863ms\n",
      "16:\tlearn: 0.6123074\ttotal: 172ms\tremaining: 841ms\n",
      "17:\tlearn: 0.6099807\ttotal: 203ms\tremaining: 923ms\n",
      "18:\tlearn: 0.6089597\ttotal: 218ms\tremaining: 928ms\n",
      "19:\tlearn: 0.6076811\ttotal: 226ms\tremaining: 902ms\n",
      "20:\tlearn: 0.6056653\ttotal: 250ms\tremaining: 940ms\n",
      "21:\tlearn: 0.6035773\ttotal: 258ms\tremaining: 914ms\n",
      "22:\tlearn: 0.6008839\ttotal: 265ms\tremaining: 888ms\n",
      "23:\tlearn: 0.5999174\ttotal: 273ms\tremaining: 864ms\n",
      "24:\tlearn: 0.5989031\ttotal: 280ms\tremaining: 839ms\n",
      "25:\tlearn: 0.5959208\ttotal: 291ms\tremaining: 829ms\n",
      "26:\tlearn: 0.5948378\ttotal: 299ms\tremaining: 808ms\n",
      "27:\tlearn: 0.5896928\ttotal: 307ms\tremaining: 789ms\n",
      "28:\tlearn: 0.5886177\ttotal: 314ms\tremaining: 770ms\n",
      "29:\tlearn: 0.5862558\ttotal: 322ms\tremaining: 752ms\n",
      "30:\tlearn: 0.5852944\ttotal: 330ms\tremaining: 735ms\n",
      "31:\tlearn: 0.5838085\ttotal: 338ms\tremaining: 718ms\n",
      "32:\tlearn: 0.5828855\ttotal: 345ms\tremaining: 701ms\n",
      "33:\tlearn: 0.5821820\ttotal: 353ms\tremaining: 685ms\n",
      "34:\tlearn: 0.5813353\ttotal: 360ms\tremaining: 669ms\n",
      "35:\tlearn: 0.5803910\ttotal: 368ms\tremaining: 654ms\n",
      "36:\tlearn: 0.5789135\ttotal: 376ms\tremaining: 639ms\n",
      "37:\tlearn: 0.5773116\ttotal: 394ms\tremaining: 643ms\n",
      "38:\tlearn: 0.5764036\ttotal: 403ms\tremaining: 630ms\n",
      "39:\tlearn: 0.5753762\ttotal: 410ms\tremaining: 616ms\n",
      "40:\tlearn: 0.5745193\ttotal: 418ms\tremaining: 602ms\n",
      "41:\tlearn: 0.5738078\ttotal: 426ms\tremaining: 588ms\n",
      "42:\tlearn: 0.5726694\ttotal: 433ms\tremaining: 574ms\n",
      "43:\tlearn: 0.5713348\ttotal: 441ms\tremaining: 561ms\n",
      "44:\tlearn: 0.5700881\ttotal: 449ms\tremaining: 548ms\n",
      "45:\tlearn: 0.5687827\ttotal: 456ms\tremaining: 536ms\n",
      "46:\tlearn: 0.5678249\ttotal: 464ms\tremaining: 523ms\n",
      "47:\tlearn: 0.5665662\ttotal: 471ms\tremaining: 511ms\n",
      "48:\tlearn: 0.5655490\ttotal: 491ms\tremaining: 511ms\n",
      "49:\tlearn: 0.5644045\ttotal: 499ms\tremaining: 499ms\n",
      "50:\tlearn: 0.5627918\ttotal: 507ms\tremaining: 487ms\n",
      "51:\tlearn: 0.5610101\ttotal: 531ms\tremaining: 490ms\n",
      "52:\tlearn: 0.5594811\ttotal: 539ms\tremaining: 478ms\n",
      "53:\tlearn: 0.5587684\ttotal: 547ms\tremaining: 466ms\n",
      "54:\tlearn: 0.5574010\ttotal: 555ms\tremaining: 454ms\n",
      "55:\tlearn: 0.5559929\ttotal: 562ms\tremaining: 442ms\n",
      "56:\tlearn: 0.5552770\ttotal: 571ms\tremaining: 430ms\n",
      "57:\tlearn: 0.5542468\ttotal: 579ms\tremaining: 419ms\n",
      "58:\tlearn: 0.5532341\ttotal: 591ms\tremaining: 411ms\n",
      "59:\tlearn: 0.5520673\ttotal: 599ms\tremaining: 400ms\n",
      "60:\tlearn: 0.5510755\ttotal: 607ms\tremaining: 388ms\n",
      "61:\tlearn: 0.5502657\ttotal: 615ms\tremaining: 377ms\n",
      "62:\tlearn: 0.5492459\ttotal: 623ms\tremaining: 366ms\n",
      "63:\tlearn: 0.5478820\ttotal: 632ms\tremaining: 355ms\n",
      "64:\tlearn: 0.5465209\ttotal: 640ms\tremaining: 345ms\n",
      "65:\tlearn: 0.5455641\ttotal: 648ms\tremaining: 334ms\n",
      "66:\tlearn: 0.5446251\ttotal: 656ms\tremaining: 323ms\n",
      "67:\tlearn: 0.5432086\ttotal: 664ms\tremaining: 313ms\n",
      "68:\tlearn: 0.5414741\ttotal: 672ms\tremaining: 302ms\n",
      "69:\tlearn: 0.5405716\ttotal: 691ms\tremaining: 296ms\n",
      "70:\tlearn: 0.5397020\ttotal: 699ms\tremaining: 285ms\n",
      "71:\tlearn: 0.5387458\ttotal: 707ms\tremaining: 275ms\n",
      "72:\tlearn: 0.5378645\ttotal: 715ms\tremaining: 264ms\n",
      "73:\tlearn: 0.5373411\ttotal: 722ms\tremaining: 254ms\n",
      "74:\tlearn: 0.5349224\ttotal: 730ms\tremaining: 243ms\n",
      "75:\tlearn: 0.5344817\ttotal: 738ms\tremaining: 233ms\n",
      "76:\tlearn: 0.5334953\ttotal: 746ms\tremaining: 223ms\n",
      "77:\tlearn: 0.5324509\ttotal: 754ms\tremaining: 213ms\n",
      "78:\tlearn: 0.5313370\ttotal: 762ms\tremaining: 203ms\n",
      "79:\tlearn: 0.5308013\ttotal: 770ms\tremaining: 193ms\n",
      "80:\tlearn: 0.5296742\ttotal: 789ms\tremaining: 185ms\n",
      "81:\tlearn: 0.5277458\ttotal: 797ms\tremaining: 175ms\n",
      "82:\tlearn: 0.5269224\ttotal: 805ms\tremaining: 165ms\n",
      "83:\tlearn: 0.5255180\ttotal: 813ms\tremaining: 155ms\n",
      "84:\tlearn: 0.5249087\ttotal: 821ms\tremaining: 145ms\n",
      "85:\tlearn: 0.5246498\ttotal: 828ms\tremaining: 135ms\n",
      "86:\tlearn: 0.5238034\ttotal: 836ms\tremaining: 125ms\n",
      "87:\tlearn: 0.5227727\ttotal: 844ms\tremaining: 115ms\n",
      "88:\tlearn: 0.5217594\ttotal: 852ms\tremaining: 105ms\n",
      "89:\tlearn: 0.5211657\ttotal: 861ms\tremaining: 95.6ms\n",
      "90:\tlearn: 0.5202890\ttotal: 869ms\tremaining: 86ms\n",
      "91:\tlearn: 0.5191195\ttotal: 890ms\tremaining: 77.4ms\n",
      "92:\tlearn: 0.5183803\ttotal: 899ms\tremaining: 67.7ms\n",
      "93:\tlearn: 0.5174415\ttotal: 909ms\tremaining: 58ms\n",
      "94:\tlearn: 0.5163561\ttotal: 918ms\tremaining: 48.3ms\n",
      "95:\tlearn: 0.5155915\ttotal: 927ms\tremaining: 38.6ms\n",
      "96:\tlearn: 0.5149538\ttotal: 937ms\tremaining: 29ms\n",
      "97:\tlearn: 0.5139530\ttotal: 944ms\tremaining: 19.3ms\n",
      "98:\tlearn: 0.5131750\ttotal: 954ms\tremaining: 9.64ms\n",
      "99:\tlearn: 0.5123075\ttotal: 963ms\tremaining: 0us\n",
      "[0 0 0 ... 1 0 0]\n",
      "Best Params : {'depth': 5, 'learning_rate': 0.3}\n",
      "Classification Report :               precision    recall  f1-score   support\n",
      "\n",
      "           0       0.66      0.66      0.66      1904\n",
      "           1       0.67      0.67      0.67      1952\n",
      "\n",
      "    accuracy                           0.67      3856\n",
      "   macro avg       0.67      0.67      0.67      3856\n",
      "weighted avg       0.67      0.67      0.67      3856\n",
      "\n",
      "Accuracy Score : 0.6659751037344398\n",
      "Confusion Matrix : \n",
      " [[1255  649]\n",
      " [ 639 1313]]\n"
     ]
    }
   ],
   "source": [
    "params = {}\n",
    "params['learning_rate'] = [0.003,0.001,0.03,0.01,0.3,0.1]\n",
    "params['depth'] = [2,5,10,16]\n",
    "\n",
    "FitModel(X_resampled,Y_resample,'CatBoost_OS',CatBoostClassifier(iterations=100),params,cv=5)\n"
   ]
  },
  {
   "cell_type": "code",
   "execution_count": 0,
   "metadata": {
    "colab": {},
    "colab_type": "code",
    "id": "R9liO5PCazXV"
   },
   "outputs": [],
   "source": []
  }
 ],
 "metadata": {
  "accelerator": "GPU",
  "colab": {
   "name": "Signing a Loan Predictions.ipynb",
   "provenance": []
  },
  "kernelspec": {
   "display_name": "Python 3",
   "language": "python",
   "name": "python3"
  },
  "language_info": {
   "codemirror_mode": {
    "name": "ipython",
    "version": 3
   },
   "file_extension": ".py",
   "mimetype": "text/x-python",
   "name": "python",
   "nbconvert_exporter": "python",
   "pygments_lexer": "ipython3",
   "version": "3.6.9"
  }
 },
 "nbformat": 4,
 "nbformat_minor": 1
}
